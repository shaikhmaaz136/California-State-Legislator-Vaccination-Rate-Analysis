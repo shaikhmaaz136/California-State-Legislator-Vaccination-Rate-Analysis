{
  "cells": [
    {
      "cell_type": "markdown",
      "metadata": {
        "id": "view-in-github",
        "colab_type": "text"
      },
      "source": [
        "<a href=\"https://colab.research.google.com/github/shaikhmaaz136/California-State-Legislator-Vaccination-Rate-Analysis/blob/main/predicting_credit_score_defaulters.ipynb\" target=\"_parent\"><img src=\"https://colab.research.google.com/assets/colab-badge.svg\" alt=\"Open In Colab\"/></a>"
      ]
    },
    {
      "cell_type": "markdown",
      "metadata": {
        "id": "8q22GFUrqSqS"
      },
      "source": [
        "# Random forest for predicting credit score"
      ]
    },
    {
      "cell_type": "markdown",
      "metadata": {
        "id": "SX-NYpuDtdVe"
      },
      "source": [
        "If running on Google colab, the following cell installs pyspark"
      ]
    },
    {
      "cell_type": "code",
      "execution_count": null,
      "metadata": {
        "id": "8NFmfL6uv56m"
      },
      "outputs": [],
      "source": [
        "%%bash \n",
        "# Do not change or modify this cell\n",
        "# Need to install pyspark\n",
        "# if pyspark is already installed, will print a message indicating requirement already satisfied\n",
        "pip install pyspark &> /dev/null"
      ]
    },
    {
      "cell_type": "code",
      "execution_count": null,
      "metadata": {
        "id": "iEd0Y8MMQagS"
      },
      "outputs": [],
      "source": [
        "%%bash\n",
        "\n",
        "# Download the data files from github\n",
        "\n",
        "data_file_1=cs-training.csv\n",
        "\n",
        "# If data_file_1 file does not exist in the colab environment\n",
        "if [[ ! -f ${data_file_1} ]]; then \n",
        "   # download the data file from github and save it in this colab environment instance\n",
        "   wget https://raw.githubusercontent.com/wewilli1/ist718_data/master/${data_file_1} &> /dev/null\n",
        "fi"
      ]
    },
    {
      "cell_type": "code",
      "execution_count": null,
      "metadata": {
        "id": "qdgWyRPwqSqO"
      },
      "outputs": [],
      "source": [
        "# Preload packages\n",
        "from pyspark.sql import SparkSession\n",
        "from pyspark.ml import feature, regression, evaluation, Pipeline\n",
        "from pyspark.sql import functions as fn, Row\n",
        "import matplotlib.pyplot as plt\n",
        "spark = SparkSession.builder.getOrCreate()\n",
        "sc = spark.sparkContext\n",
        "# dataframe functions\n",
        "from pyspark.sql import functions as fn\n",
        "from pyspark.ml.classification import GBTClassifier"
      ]
    },
    {
      "cell_type": "markdown",
      "metadata": {
        "id": "OYDjufWSsl67"
      },
      "source": [
        "If running on Google colab, the following cell prompts the user to upload the credit score data file."
      ]
    },
    {
      "cell_type": "code",
      "execution_count": null,
      "metadata": {
        "id": "NQGPSxtisbNU"
      },
      "outputs": [],
      "source": [
        "# read the data file\n",
        "credit_score_df = spark.read.csv(\"cs-training.csv\", inferSchema=True, header=True)"
      ]
    },
    {
      "cell_type": "markdown",
      "metadata": {
        "id": "pf5owoFiqSqS"
      },
      "source": [
        "# A problem with Logistic Regression"
      ]
    },
    {
      "cell_type": "markdown",
      "metadata": {
        "id": "I7CX0XCSqSqT"
      },
      "source": [
        "While logistic regression is a simple, fast, and effective method. However, the predictions depend linearly on the features. This is, after we have learned the parameters $\\theta_0,\\theta_1,\\dots,\\theta_m$, given the features $X$, we have a prediction for the a new point $y$:\n",
        "\n",
        "\\begin{equation}\n",
        "p(y \\mid X) = \\frac{1}{1+\\exp(-(\\theta_0 + \\sum_{j>0} x_j \\theta_j))}\n",
        "\\end{equation}\n",
        "\n",
        "Let say we choose to predict that $y$ is 1 if $p(y \\mid X) > \\frac{1}{2}$, therefore, the decision boundary is given by:\n",
        "\n",
        "\\begin{equation}\n",
        "\\frac{1}{1+\\exp(-(\\theta_0 + \\sum_{j>0} x_j \\theta_j))} > \\frac{1}{2}\n",
        "\\end{equation}\n",
        "\n",
        "\\begin{equation}\n",
        "1 > \\frac{1+\\exp(-(\\theta_0 + \\sum_{j>0} x_j \\theta_j))}{2}\n",
        "\\end{equation}\n",
        "\n",
        "\\begin{equation}\n",
        "2 > 1+\\exp(-(\\theta_0 + \\sum_{j>0} x_j \\theta_j))\n",
        "\\end{equation}\n",
        "\n",
        "\\begin{equation}\n",
        "1 > \\exp(-(\\theta_0 + \\sum_{j>0} x_j \\theta_j))\n",
        "\\end{equation}\n",
        "\n",
        "By taking the log:\n",
        "\n",
        "\\begin{equation}\n",
        "0 > -(\\theta_0 + \\sum_{j>0} x_j \\theta_j)\n",
        "\\end{equation}\n",
        "\n",
        "therefore:\n",
        "\n",
        "\\begin{equation}\n",
        "0 < \\theta_0 + \\sum_{j>0} x_j \\theta_j\n",
        "\\end{equation}\n",
        "\n",
        "The decision boundary is exactly when the linear combination $X^T\\theta = 0$"
      ]
    },
    {
      "cell_type": "markdown",
      "metadata": {
        "id": "gSNWyR8yqSqT"
      },
      "source": [
        "## The XOR function"
      ]
    },
    {
      "cell_type": "markdown",
      "metadata": {
        "id": "VKiyKm2VqSqU"
      },
      "source": [
        "A problem of classic importance that clearly shows when linear boundaries do not work is the XOR function. The [XOR function](https://en.wikipedia.org/wiki/Exclusive_or) stands for eXclusive or and it means \"one or the other but not both\".\n",
        "\n",
        "Let's define the function now:"
      ]
    },
    {
      "cell_type": "code",
      "execution_count": null,
      "metadata": {
        "id": "eWRoeBuAqSqU"
      },
      "outputs": [],
      "source": [
        "import pandas as pd\n",
        "import numpy as np"
      ]
    },
    {
      "cell_type": "code",
      "execution_count": null,
      "metadata": {
        "id": "jffQw1BzqSqW"
      },
      "outputs": [],
      "source": [
        "X = np.array([\n",
        "        [0, 0],\n",
        "        [0, 1],\n",
        "        [1, 0],\n",
        "        [1, 1]])\n",
        "y = np.array([0, 1, 1, 0])"
      ]
    },
    {
      "cell_type": "code",
      "execution_count": null,
      "metadata": {
        "colab": {
          "base_uri": "https://localhost:8080/",
          "height": 175
        },
        "id": "decgDNR2qSqZ",
        "outputId": "cc66269d-1f29-4266-fa26-03f2790ba772"
      },
      "outputs": [
        {
          "output_type": "execute_result",
          "data": {
            "text/plain": [
              "   x1  x2  y\n",
              "0   0   0  0\n",
              "1   0   1  1\n",
              "2   1   0  1\n",
              "3   1   1  0"
            ],
            "text/html": [
              "\n",
              "  <div id=\"df-f2b23c3e-7e44-4bcb-a5d4-425853329aed\">\n",
              "    <div class=\"colab-df-container\">\n",
              "      <div>\n",
              "<style scoped>\n",
              "    .dataframe tbody tr th:only-of-type {\n",
              "        vertical-align: middle;\n",
              "    }\n",
              "\n",
              "    .dataframe tbody tr th {\n",
              "        vertical-align: top;\n",
              "    }\n",
              "\n",
              "    .dataframe thead th {\n",
              "        text-align: right;\n",
              "    }\n",
              "</style>\n",
              "<table border=\"1\" class=\"dataframe\">\n",
              "  <thead>\n",
              "    <tr style=\"text-align: right;\">\n",
              "      <th></th>\n",
              "      <th>x1</th>\n",
              "      <th>x2</th>\n",
              "      <th>y</th>\n",
              "    </tr>\n",
              "  </thead>\n",
              "  <tbody>\n",
              "    <tr>\n",
              "      <th>0</th>\n",
              "      <td>0</td>\n",
              "      <td>0</td>\n",
              "      <td>0</td>\n",
              "    </tr>\n",
              "    <tr>\n",
              "      <th>1</th>\n",
              "      <td>0</td>\n",
              "      <td>1</td>\n",
              "      <td>1</td>\n",
              "    </tr>\n",
              "    <tr>\n",
              "      <th>2</th>\n",
              "      <td>1</td>\n",
              "      <td>0</td>\n",
              "      <td>1</td>\n",
              "    </tr>\n",
              "    <tr>\n",
              "      <th>3</th>\n",
              "      <td>1</td>\n",
              "      <td>1</td>\n",
              "      <td>0</td>\n",
              "    </tr>\n",
              "  </tbody>\n",
              "</table>\n",
              "</div>\n",
              "      <button class=\"colab-df-convert\" onclick=\"convertToInteractive('df-f2b23c3e-7e44-4bcb-a5d4-425853329aed')\"\n",
              "              title=\"Convert this dataframe to an interactive table.\"\n",
              "              style=\"display:none;\">\n",
              "        \n",
              "  <svg xmlns=\"http://www.w3.org/2000/svg\" height=\"24px\"viewBox=\"0 0 24 24\"\n",
              "       width=\"24px\">\n",
              "    <path d=\"M0 0h24v24H0V0z\" fill=\"none\"/>\n",
              "    <path d=\"M18.56 5.44l.94 2.06.94-2.06 2.06-.94-2.06-.94-.94-2.06-.94 2.06-2.06.94zm-11 1L8.5 8.5l.94-2.06 2.06-.94-2.06-.94L8.5 2.5l-.94 2.06-2.06.94zm10 10l.94 2.06.94-2.06 2.06-.94-2.06-.94-.94-2.06-.94 2.06-2.06.94z\"/><path d=\"M17.41 7.96l-1.37-1.37c-.4-.4-.92-.59-1.43-.59-.52 0-1.04.2-1.43.59L10.3 9.45l-7.72 7.72c-.78.78-.78 2.05 0 2.83L4 21.41c.39.39.9.59 1.41.59.51 0 1.02-.2 1.41-.59l7.78-7.78 2.81-2.81c.8-.78.8-2.07 0-2.86zM5.41 20L4 18.59l7.72-7.72 1.47 1.35L5.41 20z\"/>\n",
              "  </svg>\n",
              "      </button>\n",
              "      \n",
              "  <style>\n",
              "    .colab-df-container {\n",
              "      display:flex;\n",
              "      flex-wrap:wrap;\n",
              "      gap: 12px;\n",
              "    }\n",
              "\n",
              "    .colab-df-convert {\n",
              "      background-color: #E8F0FE;\n",
              "      border: none;\n",
              "      border-radius: 50%;\n",
              "      cursor: pointer;\n",
              "      display: none;\n",
              "      fill: #1967D2;\n",
              "      height: 32px;\n",
              "      padding: 0 0 0 0;\n",
              "      width: 32px;\n",
              "    }\n",
              "\n",
              "    .colab-df-convert:hover {\n",
              "      background-color: #E2EBFA;\n",
              "      box-shadow: 0px 1px 2px rgba(60, 64, 67, 0.3), 0px 1px 3px 1px rgba(60, 64, 67, 0.15);\n",
              "      fill: #174EA6;\n",
              "    }\n",
              "\n",
              "    [theme=dark] .colab-df-convert {\n",
              "      background-color: #3B4455;\n",
              "      fill: #D2E3FC;\n",
              "    }\n",
              "\n",
              "    [theme=dark] .colab-df-convert:hover {\n",
              "      background-color: #434B5C;\n",
              "      box-shadow: 0px 1px 3px 1px rgba(0, 0, 0, 0.15);\n",
              "      filter: drop-shadow(0px 1px 2px rgba(0, 0, 0, 0.3));\n",
              "      fill: #FFFFFF;\n",
              "    }\n",
              "  </style>\n",
              "\n",
              "      <script>\n",
              "        const buttonEl =\n",
              "          document.querySelector('#df-f2b23c3e-7e44-4bcb-a5d4-425853329aed button.colab-df-convert');\n",
              "        buttonEl.style.display =\n",
              "          google.colab.kernel.accessAllowed ? 'block' : 'none';\n",
              "\n",
              "        async function convertToInteractive(key) {\n",
              "          const element = document.querySelector('#df-f2b23c3e-7e44-4bcb-a5d4-425853329aed');\n",
              "          const dataTable =\n",
              "            await google.colab.kernel.invokeFunction('convertToInteractive',\n",
              "                                                     [key], {});\n",
              "          if (!dataTable) return;\n",
              "\n",
              "          const docLinkHtml = 'Like what you see? Visit the ' +\n",
              "            '<a target=\"_blank\" href=https://colab.research.google.com/notebooks/data_table.ipynb>data table notebook</a>'\n",
              "            + ' to learn more about interactive tables.';\n",
              "          element.innerHTML = '';\n",
              "          dataTable['output_type'] = 'display_data';\n",
              "          await google.colab.output.renderOutput(dataTable, element);\n",
              "          const docLink = document.createElement('div');\n",
              "          docLink.innerHTML = docLinkHtml;\n",
              "          element.appendChild(docLink);\n",
              "        }\n",
              "      </script>\n",
              "    </div>\n",
              "  </div>\n",
              "  "
            ]
          },
          "metadata": {},
          "execution_count": 14
        }
      ],
      "source": [
        "pd.DataFrame(np.hstack((X, y.reshape(-1, 1))), columns=['x1', 'x2', 'y'])"
      ]
    },
    {
      "cell_type": "code",
      "execution_count": null,
      "metadata": {
        "id": "0J1oJfTzqSqd"
      },
      "outputs": [],
      "source": [
        "%matplotlib inline"
      ]
    },
    {
      "cell_type": "code",
      "execution_count": null,
      "metadata": {
        "id": "wCYXNJoRqSqf"
      },
      "outputs": [],
      "source": [
        "import matplotlib.pyplot as plt"
      ]
    },
    {
      "cell_type": "markdown",
      "metadata": {
        "id": "XViu4pEiqSqi"
      },
      "source": [
        "The plot below shows ax XOR scatter plot of x2 vs x1 with the color red denoting a Y outcome of 0 and the color blue denoting a Y outcome of 1.  This plot illustrates that it's not possible to linearly separate (by drawing a straight line) the predictors (the X values) into groups that represent the outcomes (the Y values).  In summary, there is no linear function that can correctly classify the data because the data is not linearly separable."
      ]
    },
    {
      "cell_type": "code",
      "execution_count": null,
      "metadata": {
        "colab": {
          "base_uri": "https://localhost:8080/",
          "height": 279
        },
        "id": "U3p6MxVGqSqi",
        "outputId": "3f89c479-86b9-4533-c9a4-d20467eec81d"
      },
      "outputs": [
        {
          "output_type": "display_data",
          "data": {
            "text/plain": [
              "<Figure size 432x288 with 1 Axes>"
            ],
            "image/png": "[encoded data removed]"
          },
          "metadata": {
            "needs_background": "light"
          }
        }
      ],
      "source": [
        "plt.scatter(X[y==0, 0], X[y==0, 1], c='red');\n",
        "plt.scatter(X[y==1, 0], X[y==1, 1], c='blue');\n",
        "plt.xlabel('x1');\n",
        "plt.ylabel('x2');\n",
        "plt.legend(['0', '1'], loc='center');"
      ]
    },
    {
      "cell_type": "markdown",
      "metadata": {
        "id": "1bIFvB4GqSql"
      },
      "source": [
        "## Decision tree"
      ]
    },
    {
      "cell_type": "markdown",
      "metadata": {
        "id": "k6FOBGgKqSql"
      },
      "source": [
        "Decision trees recursively partitions the feature space. The decisions are typically simple. Because of the recursive partitioning, the decision can be represented as a tree."
      ]
    },
    {
      "cell_type": "markdown",
      "metadata": {
        "id": "_uqWi5hGqSql"
      },
      "source": [
        "These techniques were originally created to display decisions in a human-redeable fashion. They are therefore easy to read and interpret."
      ]
    },
    {
      "cell_type": "markdown",
      "metadata": {
        "id": "Xw1XoK92qSqm"
      },
      "source": [
        "For example, for the XOR problem, is very easy to create a decision tree that solves it with 100% accuracy."
      ]
    },
    {
      "cell_type": "code",
      "execution_count": null,
      "metadata": {
        "id": "5RMDQkVCqSqm"
      },
      "outputs": [],
      "source": [
        "def xor_decision_tree(x):\n",
        "    x1, x2 = x\n",
        "    if x1 == 0:\n",
        "        if x2 == 0:\n",
        "            return 0\n",
        "        elif x2 == 1:\n",
        "            return 1\n",
        "    elif x1 == 1:\n",
        "        if x2 == 0:\n",
        "            return 1\n",
        "        elif x2 == 1:\n",
        "            return 0"
      ]
    },
    {
      "cell_type": "code",
      "execution_count": null,
      "metadata": {
        "colab": {
          "base_uri": "https://localhost:8080/"
        },
        "id": "oMF_Zi7LqSqo",
        "outputId": "e3424b68-b5d4-43a9-b5d2-86bb38bf7c6e"
      },
      "outputs": [
        {
          "output_type": "execute_result",
          "data": {
            "text/plain": [
              "1.0"
            ]
          },
          "metadata": {},
          "execution_count": 19
        }
      ],
      "source": [
        "# accuracy\n",
        "(list(map(xor_decision_tree, X)) == y).mean()"
      ]
    },
    {
      "cell_type": "markdown",
      "metadata": {
        "id": "9nU0A7kBqSqq"
      },
      "source": [
        "### Types of decision trees"
      ]
    },
    {
      "cell_type": "markdown",
      "metadata": {
        "id": "SbEk0U3IqSqr"
      },
      "source": [
        "In mathematical terms, decision trees partition the feature space into, say, $M$ _regions_ $R_1, ..., R_M$. For each region, we build a prediction based on the training datapoints that fall into that region. \n",
        "\n",
        "#### Regression tree\n",
        "For a regression problem and a region $m$, for example, we may predict that the region value is the mean of the points that belong to that region, denoted by $\\bar{y}_{R_m}$. In this simple approach, we evaluate the performance of a regression tree by the squared error of the regression predictions\n",
        "\n",
        "\\begin{equation}\n",
        "\\sum_{m=1}^M \\sum_{i\\in R_m} (y_i - \\bar{y}_{R_m})^2\n",
        "\\end{equation}\n",
        "\n",
        "#### Classification tree\n",
        "\n",
        "A similar approach is taken for classification trees, where the dependent variable $y$ is categorical. The classification trees predicts a class $k$ for region $m$ as the _most common training class_ occuring in that region.\n",
        "\n",
        "To measure the performance of a classification tree, we often measure the proportion of training examples from class $k$ in region $m$, denoted as $\\hat{p}_{mk}$. For a particular region, one performance measure is the Gini index\n",
        "\n",
        "\\begin{equation}\n",
        "G_m = \\sum_{k=1}^K \\hat{p}_{mk} (1 - \\hat{p}_{mk})\n",
        "\\end{equation}\n",
        "\n",
        "Intuitively, the index is small when the values $\\hat{p}_{mk}$ are close to zero or one.\n",
        "\n",
        "Another measure of performance is entropy\n",
        "\n",
        "\\begin{equation}\n",
        "D_m = - \\sum_{k=1}^K \\hat{p}_{mk} \\text{log}(\\hat{p}_{mk})\n",
        "\\end{equation}\n",
        "\n",
        "Entropy is a mathematical tool which tells us a degree of randomness.\n",
        "\n",
        "At the end, we want to minimize either $\\sum_m G_M$ or $\\sum_m D_m$."
      ]
    },
    {
      "cell_type": "markdown",
      "metadata": {
        "id": "5069i-cgqSqr"
      },
      "source": [
        "### Building a decision tree\n",
        "\n",
        "The search of all possible recursive partitions is intractable. So typically the process is split into two steps.\n",
        "\n",
        "1. Building. The tree is built from the top down (from one feature to all features) in a greedy fashion until some criteria is met.\n",
        "\n",
        "    1. We start from a region that has every point\n",
        "    1. We select a feature and a cutting point that splits a region so that the loss is minimized.\n",
        "    1. We repeat recursively until a criteria, such as number of examples in a leaf, is met.\n",
        "\n",
        "1. Pruning or regularization. Given a regularization parameter $\\alpha$ and starting from the most complex tree found before, we find a new tree that optimizes the following loss function\n",
        "\n",
        "\\begin{equation}\n",
        "\\sum_{m=1}^M \\sum_{x_i \\in R_m} L(y_i, \\hat{f}(x_i)) + \\alpha M \n",
        "\\end{equation}\n",
        "\n",
        "where $L$ is the loss function either for a regression or classification problem. Since $M$ is the number regions, then $\\alpha \\mid M \\mid$ acts as an $L1$ regularization."
      ]
    },
    {
      "cell_type": "markdown",
      "metadata": {
        "id": "PHqhocijqSqs"
      },
      "source": [
        "# Problems with decision trees\n",
        "\n",
        "In one word: __Overfitting__\n",
        "\n",
        "Question: how many ways can we build a tree for the same dataset?\n",
        "\n",
        "(from ISRL)"
      ]
    },
    {
      "cell_type": "markdown",
      "metadata": {
        "id": "8f175q3vqSqs"
      },
      "source": [
        "1. The good\n",
        "    1. Trees are very easy to explain to people. In fact, they are even easier to explain than linear regression!\n",
        "    1. Some people believe that decision trees more closely mirror human decision-making than do the regression and classification approaches seen in previous chapters.\n",
        "    1. Trees can be displayed graphically, and are easily interpreted even by a non-expert (especially if they are small).\n",
        "    1. Trees can easily handle qualitative predictors without the need to create dummy variables.\n",
        "\n",
        "1. The bad\n",
        "    1. Unfortunately, trees generally do not have the same level of predictive accuracy as some of the other regression and classification approaches seen in this book.\n",
        "    1. Additionally, trees can be very non-robust. In other words, a small change in the data can cause a large change in the final estimated tree"
      ]
    },
    {
      "cell_type": "markdown",
      "metadata": {
        "id": "-i3mp7Q-qSqt"
      },
      "source": [
        "# Bagging"
      ]
    },
    {
      "cell_type": "markdown",
      "metadata": {
        "id": "rloZoA9wqSqt"
      },
      "source": [
        "The problem with decision trees and other learning methods is that they have _high variance_. If fit into two training set, they can produce very different fits.\n",
        "\n",
        "One solution to this problem is to _average_ the opinions of several models fit to different training sets. Given that we usually don't have many training sets, we use a technique called _bootstrap_ to produce them. In boostrap, we generate _fictitious_ training sets by sampling the training set _with replacement_. We do this multiple times, fitting a model to each bootsrap sample, and predicting based on the average of the trees. This is called __bagging__ which is short for _bootstrap aggregation_."
      ]
    },
    {
      "cell_type": "markdown",
      "metadata": {
        "id": "OHoosTwsqSqu"
      },
      "source": [
        "## The wisdom of the crowds\n",
        "\n",
        "Here is the intuition behind bagging. Image asking $B$ people the opinion about the height of someone. Assume that each person has a high variance $\\sigma^2$ in their estimates and no biases. If we average the B opinions, what is the variance of the resulting estimate (hint:  See ISLR chapter8_trees.pdf slide number 31)?"
      ]
    },
    {
      "cell_type": "code",
      "execution_count": null,
      "metadata": {
        "id": "q6uJfTouqSqu"
      },
      "outputs": [],
      "source": [
        "import numpy as np"
      ]
    },
    {
      "cell_type": "code",
      "execution_count": null,
      "metadata": {
        "colab": {
          "base_uri": "https://localhost:8080/"
        },
        "id": "Wnk6RggFqSqx",
        "outputId": "13809d93-dac4-47aa-c0d4-0c6c5917045a"
      },
      "outputs": [
        {
          "output_type": "stream",
          "name": "stdout",
          "text": [
            "opinions.shape: (10000, 10)\n"
          ]
        }
      ],
      "source": [
        "person_std = np.sqrt(10.)\n",
        "n_simulations = 10000\n",
        "crowd_size = 10\n",
        "\n",
        "# simulate sampling the crowd.\n",
        "opinions = np.random.normal(scale=person_std, size = (n_simulations, crowd_size))\n",
        "print(\"opinions.shape:\", opinions.shape)"
      ]
    },
    {
      "cell_type": "code",
      "execution_count": null,
      "metadata": {
        "colab": {
          "base_uri": "https://localhost:8080/"
        },
        "id": "Fo4zsAHIqSq0",
        "outputId": "0b2aba26-671a-4b36-8793-da4e80ecd1c3"
      },
      "outputs": [
        {
          "output_type": "stream",
          "name": "stdout",
          "text": [
            "avg_opinions.shape: (10000,)\n"
          ]
        }
      ],
      "source": [
        "# lets average crowd opinions\n",
        "avg_opinions = opinions.mean(axis=1)\n",
        "print(\"avg_opinions.shape:\", avg_opinions.shape)"
      ]
    },
    {
      "cell_type": "markdown",
      "metadata": {
        "id": "g2P0wotFqSq2"
      },
      "source": [
        "In the cell below, the average variance of the crowd is close to 1 but the variance of a person in the crowd was 10."
      ]
    },
    {
      "cell_type": "code",
      "execution_count": null,
      "metadata": {
        "colab": {
          "base_uri": "https://localhost:8080/"
        },
        "id": "erU673jaqSq2",
        "outputId": "ca821ffe-4337-4228-bae5-172a60eca44b"
      },
      "outputs": [
        {
          "output_type": "execute_result",
          "data": {
            "text/plain": [
              "0.9890762921608204"
            ]
          },
          "metadata": {},
          "execution_count": 23
        }
      ],
      "source": [
        "# let's look at the variance\n",
        "np.var(avg_opinions)"
      ]
    },
    {
      "cell_type": "code",
      "execution_count": null,
      "metadata": {
        "id": "aoeBQmJOqSq4"
      },
      "outputs": [],
      "source": [
        "import matplotlib.pyplot as plt"
      ]
    },
    {
      "cell_type": "markdown",
      "metadata": {
        "id": "5p8R6yUdqSq6"
      },
      "source": [
        "The plot below shows an estimate of how the variance of the average opinion of the crowd is expected to decrease as the crowd size increases.  The plot starts with a variance of 10 (1 person crowd) and steadily decreases as we add people to the crowd and average the opionions of the people in the crowd."
      ]
    },
    {
      "cell_type": "code",
      "execution_count": null,
      "metadata": {
        "colab": {
          "base_uri": "https://localhost:8080/",
          "height": 295
        },
        "id": "mkfMh23UqSq7",
        "outputId": "c10699aa-4d9e-436f-8786-eb954dc9a3f6"
      },
      "outputs": [
        {
          "output_type": "display_data",
          "data": {
            "text/plain": [
              "<Figure size 432x288 with 1 Axes>"
            ],
            "image/png": "[encoded data removed]"
          },
          "metadata": {
            "needs_background": "light"
          }
        }
      ],
      "source": [
        "plt.plot(np.linspace(1, 10, num=10), 10/np.linspace(1, 10, num=10));\n",
        "plt.title(\"Average Variance vs. Num Opinions\")\n",
        "plt.xlabel('Num Opinions');\n",
        "plt.ylabel('Average Variance');\n",
        "plt.ylim([0, 12]);"
      ]
    },
    {
      "cell_type": "markdown",
      "metadata": {
        "id": "uyY7VotqqSq-"
      },
      "source": [
        "## Tree bagging\n",
        "\n",
        "Similar to the wisdom of the crowds, you can think of the statistical estimation of models and then bagging as a way of lowering the variance of models!"
      ]
    },
    {
      "cell_type": "markdown",
      "metadata": {
        "id": "EGWyyUfqqSq-"
      },
      "source": [
        "Therefore, if we fit ($\\hat{f}^{*b}$) different decision trees to boostrapped version $b$ of the data, then we can average those results for regression:\n",
        "\n",
        "\\begin{equation}\n",
        "\\hat{f}_{\\text{bagging}}(X) = \\frac{1}{B} \\sum_{b=1}^B  \\hat{f}^{*b}(X)\n",
        "\\end{equation}\n",
        "\n",
        "or in classification\n",
        "\n",
        "\\begin{equation}\n",
        "\\hat{f}_{\\text{bagging}}(X) = \\text{majority} \\{\\hat{f}^{*b}(X) \\mid b \\in \\{1, \\dots, B \\} \\}\n",
        "\\end{equation}"
      ]
    },
    {
      "cell_type": "markdown",
      "metadata": {
        "id": "pV_rSvCaqSq_"
      },
      "source": [
        "The problem with tree bagging is that it is harder to measure feature importance because we are now averaging the prediction of several trees.  One solution to this is to compute, across all trees, how much on average a feature decreases the loss function. We can then use that measure to sort features by importance."
      ]
    },
    {
      "cell_type": "markdown",
      "metadata": {
        "id": "4sxU8Me6qSq_"
      },
      "source": [
        "One convenient by-product of bagging is that we can compute the validaton performance of our model by computing the performance of the fit in the _out of bag_ datapoints. This is, every time we sample with replacement from the data, there is a set of datapoints that is not used in the data."
      ]
    },
    {
      "cell_type": "markdown",
      "metadata": {
        "id": "YOp7IHD3qSrA"
      },
      "source": [
        "The argument goes like this. A single point has a chance of $1/n$ of being sampled. This means that the probability of a point not being sampled during a bootstrap sample is $(1-\\frac{1}{n})^n$. Taking the $\\lim_{n\\rightarrow \\infty} (1-\\frac{1}{n})^n = \\frac{1}{e} \\approx 36\\% \\approx \\frac{1}{3}$. So, in boostrapped estimators an observation will not be included in the bootstrap sample approximately 1/3 of the time. \n",
        "\n",
        "In summary, the derivation above shows that when using boostrap sampling (sampling with replacement), approximately $1/3$ of the observations in the data being sampled will not make it into the resulting sample data set.  The samples that don't make it into the resulting sample data set are called _out of bag_ samples and can be used to determine testing performance."
      ]
    },
    {
      "cell_type": "markdown",
      "metadata": {
        "id": "hzfML5z2qSrA"
      },
      "source": [
        "### Limitations of the wisdom of the crowds"
      ]
    },
    {
      "cell_type": "markdown",
      "metadata": {
        "id": "YfeVqnXoqSrA"
      },
      "source": [
        "Now, the wisdom of the crowds assumes that opinions are independent, but boostrapping makes the trees dependent because we are resampling the same training data multiple times.\n",
        "\n",
        "What is the effect of making opinions dependent?  The cell below creates a covariance matrix assuming a variance of 10 (10 on the diagonal) with each of the 1000 predictors correlated 90% to each other (9 everywhere except the diagonal).  Next, the covariance matrix is used to generate a 1000 x 1000 matrix of multivariate uniform random data."
      ]
    },
    {
      "cell_type": "code",
      "execution_count": null,
      "metadata": {
        "colab": {
          "base_uri": "https://localhost:8080/"
        },
        "id": "HOnpfncTqSrB",
        "outputId": "8f53f401-550a-46e6-bfe1-8ab9b27c2bdb"
      },
      "outputs": [
        {
          "output_type": "stream",
          "name": "stdout",
          "text": [
            "correlated_opinions.shape (10000, 10)\n"
          ]
        }
      ],
      "source": [
        "# wisdom of the crowds with opinion correlation\n",
        "\n",
        "# define the correlation\n",
        "corr = 0.9\n",
        "\n",
        "# define the number of people in the crowd to sample\n",
        "B = 10\n",
        "\n",
        "# Create a correlation matrix then transform it into a covariance matrix\n",
        "# (np.ones((B, B)) * corr + np.eye(B)*(1-corr)) is the correlation matrix where correlation = 0.9\n",
        "# corr_matrix * (person_std**2) produces a covariance matrix\n",
        "cov = (np.ones((B, B)) * corr + np.eye(B)*(1-corr))*(person_std**2)\n",
        "\n",
        "# define zero mean\n",
        "mu = np.zeros(B)\n",
        "\n",
        "# Use the covariance matrix to produce n_simulations rows containing B normal distribution samples assuming a \n",
        "# correlation of 0.9\n",
        "correlated_opinions = np.random.multivariate_normal(mu, cov, (n_simulations))\n",
        "print(\"correlated_opinions.shape\", correlated_opinions.shape)"
      ]
    },
    {
      "cell_type": "code",
      "execution_count": null,
      "metadata": {
        "colab": {
          "base_uri": "https://localhost:8080/"
        },
        "id": "7M7AJ_iLqSrD",
        "outputId": "5f7b24f0-01b2-4aae-85e5-6cd9db5f08a9",
        "scrolled": true
      },
      "outputs": [
        {
          "output_type": "execute_result",
          "data": {
            "text/plain": [
              "array([[10.,  9.,  9.,  9.,  9.,  9.,  9.,  9.,  9.,  9.],\n",
              "       [ 9., 10.,  9.,  9.,  9.,  9.,  9.,  9.,  9.,  9.],\n",
              "       [ 9.,  9., 10.,  9.,  9.,  9.,  9.,  9.,  9.,  9.],\n",
              "       [ 9.,  9.,  9., 10.,  9.,  9.,  9.,  9.,  9.,  9.],\n",
              "       [ 9.,  9.,  9.,  9., 10.,  9.,  9.,  9.,  9.,  9.],\n",
              "       [ 9.,  9.,  9.,  9.,  9., 10.,  9.,  9.,  9.,  9.],\n",
              "       [ 9.,  9.,  9.,  9.,  9.,  9., 10.,  9.,  9.,  9.],\n",
              "       [ 9.,  9.,  9.,  9.,  9.,  9.,  9., 10.,  9.,  9.],\n",
              "       [ 9.,  9.,  9.,  9.,  9.,  9.,  9.,  9., 10.,  9.],\n",
              "       [ 9.,  9.,  9.,  9.,  9.,  9.,  9.,  9.,  9., 10.]])"
            ]
          },
          "metadata": {},
          "execution_count": 27
        }
      ],
      "source": [
        "# print the covariance matrix\n",
        "cov"
      ]
    },
    {
      "cell_type": "code",
      "execution_count": null,
      "metadata": {
        "colab": {
          "base_uri": "https://localhost:8080/"
        },
        "id": "3lresB_jqSrF",
        "outputId": "4087c5f4-a4d4-46c9-e891-95810e9e41a5"
      },
      "outputs": [
        {
          "output_type": "execute_result",
          "data": {
            "text/plain": [
              "9.050547606473875"
            ]
          },
          "metadata": {},
          "execution_count": 28
        }
      ],
      "source": [
        "correlated_opinions.mean(1).var()"
      ]
    },
    {
      "cell_type": "markdown",
      "metadata": {
        "id": "J-Hn8-pxqSrH"
      },
      "source": [
        "With 90% correlation, the crowd doesn't do much better than individuals! In general, the variance of correlated opinions is:\n",
        "\n",
        "\\begin{equation}\n",
        "\\text{var}(f) = \\bigl( \\frac{1-\\rho}{B} + \\rho \\bigr) \\sigma^2\n",
        "\\end{equation}"
      ]
    },
    {
      "cell_type": "code",
      "execution_count": null,
      "metadata": {
        "colab": {
          "base_uri": "https://localhost:8080/",
          "height": 312
        },
        "id": "qa_rnHNMqSrL",
        "outputId": "d01a2938-41d1-49bf-9543-e96e0ce050de"
      },
      "outputs": [
        {
          "output_type": "execute_result",
          "data": {
            "text/plain": [
              "<matplotlib.legend.Legend at 0x7f476fc0e290>"
            ]
          },
          "metadata": {},
          "execution_count": 29
        },
        {
          "output_type": "display_data",
          "data": {
            "text/plain": [
              "<Figure size 432x288 with 1 Axes>"
            ],
            "image/png": "[encoded data removed]"
          },
          "metadata": {
            "needs_background": "light"
          }
        }
      ],
      "source": [
        "plt.clf()\n",
        "pl1 = plt.plot(np.linspace(1, 10, num=10), 10/np.linspace(1, 10, num=10))\n",
        "pl2 = plt.plot(np.linspace(1, 10, num=10), 10*((1-0.9)/np.linspace(1, 10, num=10) + 0.9))\n",
        "plt.xlabel('Num Opinions')\n",
        "plt.ylabel('Average Variance')\n",
        "plt.title('Average Variance vs. Correlated Num Opinions')\n",
        "plt.ylim([0, 12])\n",
        "plt.legend(['no correlation', '90% correlation'])"
      ]
    },
    {
      "cell_type": "markdown",
      "metadata": {
        "id": "7udY02p2qSrO"
      },
      "source": [
        "## Random forest"
      ]
    },
    {
      "cell_type": "markdown",
      "metadata": {
        "id": "H7oP8AC4qSrP"
      },
      "source": [
        "Random forest is a tweak to the boostrapped trees predictions that decorrelate trees. It does this by randomly sampling $m$ features during each split when bulding the tree. In this way, each of trees look at different features and become decorrelated. A typical value of $m = \\sqrt{p}$, where $p$ is the total number of variables or columns."
      ]
    },
    {
      "cell_type": "markdown",
      "metadata": {
        "id": "vBVOwTy8qSrQ"
      },
      "source": [
        "## Gradient boosting"
      ]
    },
    {
      "cell_type": "markdown",
      "metadata": {
        "id": "Wzi5Ik2yqSrR"
      },
      "source": [
        "Boosting _grows_ a model. It first fits a simple model and the next model focuses on samples poorly fit by the previous model. It is a way of _adaptively_ fitting the data. In a sense, boosting does not resample the data. \n",
        "\n",
        "Boosting is a technique whose theoretical workings go outside of the scope of this course. Roughly speaking, however, while bagging aims at lowering the variance in the learning process, boosting aims at reducing the bias."
      ]
    },
    {
      "cell_type": "markdown",
      "metadata": {
        "id": "P2tdjz3_qSrR"
      },
      "source": [
        "# Application in Spark"
      ]
    },
    {
      "cell_type": "code",
      "execution_count": null,
      "metadata": {
        "id": "XdlwuCL4qSrS"
      },
      "outputs": [],
      "source": [
        "# dataframe functions\n",
        "from pyspark.sql import functions as fn"
      ]
    },
    {
      "cell_type": "code",
      "execution_count": null,
      "metadata": {
        "colab": {
          "base_uri": "https://localhost:8080/",
          "height": 444
        },
        "id": "25KtHWJfqSrZ",
        "outputId": "0859a72b-5153-41b6-8928-60e05fb5201d"
      },
      "outputs": [
        {
          "output_type": "display_data",
          "data": {
            "text/plain": [
              "   label  RevolvingUtilizationOfUnsecuredLines  age  \\\n",
              "0      1                              0.766127   45   \n",
              "1      0                              0.957151   40   \n",
              "2      0                              0.658180   38   \n",
              "3      0                              0.233810   30   \n",
              "4      0                              0.907239   49   \n",
              "5      0                              0.213179   74   \n",
              "6      0                              0.754464   39   \n",
              "7      0                              0.189169   57   \n",
              "8      0                              0.644226   30   \n",
              "9      0                              0.018798   51   \n",
              "\n",
              "   NumberOfTime30-59DaysPastDueNotWorse  DebtRatio  MonthlyIncome  \\\n",
              "0                                     2   0.802982         9120.0   \n",
              "1                                     0   0.121876         2600.0   \n",
              "2                                     1   0.085113         3042.0   \n",
              "3                                     0   0.036050         3300.0   \n",
              "4                                     1   0.024926        63588.0   \n",
              "5                                     0   0.375607         3500.0   \n",
              "6                                     0   0.209940         3500.0   \n",
              "7                                     0   0.606291        23684.0   \n",
              "8                                     0   0.309476         2500.0   \n",
              "9                                     0   0.531529         6501.0   \n",
              "\n",
              "   NumberOfOpenCreditLinesAndLoans  NumberOfTimes90DaysLate  \\\n",
              "0                               13                        0   \n",
              "1                                4                        0   \n",
              "2                                2                        1   \n",
              "3                                5                        0   \n",
              "4                                7                        0   \n",
              "5                                3                        0   \n",
              "6                                8                        0   \n",
              "7                                9                        0   \n",
              "8                                5                        0   \n",
              "9                                7                        0   \n",
              "\n",
              "   NumberRealEstateLoansOrLines  NumberOfTime60-89DaysPastDueNotWorse  \\\n",
              "0                             6                                     0   \n",
              "1                             0                                     0   \n",
              "2                             0                                     0   \n",
              "3                             0                                     0   \n",
              "4                             1                                     0   \n",
              "5                             1                                     0   \n",
              "6                             0                                     0   \n",
              "7                             4                                     0   \n",
              "8                             0                                     0   \n",
              "9                             2                                     0   \n",
              "\n",
              "   NumberOfDependents  \n",
              "0                 2.0  \n",
              "1                 1.0  \n",
              "2                 0.0  \n",
              "3                 0.0  \n",
              "4                 0.0  \n",
              "5                 1.0  \n",
              "6                 0.0  \n",
              "7                 2.0  \n",
              "8                 0.0  \n",
              "9                 2.0  "
            ],
            "text/html": [
              "\n",
              "  <div id=\"df-96b2b2e4-5cab-4994-9446-4982145535cd\">\n",
              "    <div class=\"colab-df-container\">\n",
              "      <div>\n",
              "<style scoped>\n",
              "    .dataframe tbody tr th:only-of-type {\n",
              "        vertical-align: middle;\n",
              "    }\n",
              "\n",
              "    .dataframe tbody tr th {\n",
              "        vertical-align: top;\n",
              "    }\n",
              "\n",
              "    .dataframe thead th {\n",
              "        text-align: right;\n",
              "    }\n",
              "</style>\n",
              "<table border=\"1\" class=\"dataframe\">\n",
              "  <thead>\n",
              "    <tr style=\"text-align: right;\">\n",
              "      <th></th>\n",
              "      <th>label</th>\n",
              "      <th>RevolvingUtilizationOfUnsecuredLines</th>\n",
              "      <th>age</th>\n",
              "      <th>NumberOfTime30-59DaysPastDueNotWorse</th>\n",
              "      <th>DebtRatio</th>\n",
              "      <th>MonthlyIncome</th>\n",
              "      <th>NumberOfOpenCreditLinesAndLoans</th>\n",
              "      <th>NumberOfTimes90DaysLate</th>\n",
              "      <th>NumberRealEstateLoansOrLines</th>\n",
              "      <th>NumberOfTime60-89DaysPastDueNotWorse</th>\n",
              "      <th>NumberOfDependents</th>\n",
              "    </tr>\n",
              "  </thead>\n",
              "  <tbody>\n",
              "    <tr>\n",
              "      <th>0</th>\n",
              "      <td>1</td>\n",
              "      <td>0.766127</td>\n",
              "      <td>45</td>\n",
              "      <td>2</td>\n",
              "      <td>0.802982</td>\n",
              "      <td>9120.0</td>\n",
              "      <td>13</td>\n",
              "      <td>0</td>\n",
              "      <td>6</td>\n",
              "      <td>0</td>\n",
              "      <td>2.0</td>\n",
              "    </tr>\n",
              "    <tr>\n",
              "      <th>1</th>\n",
              "      <td>0</td>\n",
              "      <td>0.957151</td>\n",
              "      <td>40</td>\n",
              "      <td>0</td>\n",
              "      <td>0.121876</td>\n",
              "      <td>2600.0</td>\n",
              "      <td>4</td>\n",
              "      <td>0</td>\n",
              "      <td>0</td>\n",
              "      <td>0</td>\n",
              "      <td>1.0</td>\n",
              "    </tr>\n",
              "    <tr>\n",
              "      <th>2</th>\n",
              "      <td>0</td>\n",
              "      <td>0.658180</td>\n",
              "      <td>38</td>\n",
              "      <td>1</td>\n",
              "      <td>0.085113</td>\n",
              "      <td>3042.0</td>\n",
              "      <td>2</td>\n",
              "      <td>1</td>\n",
              "      <td>0</td>\n",
              "      <td>0</td>\n",
              "      <td>0.0</td>\n",
              "    </tr>\n",
              "    <tr>\n",
              "      <th>3</th>\n",
              "      <td>0</td>\n",
              "      <td>0.233810</td>\n",
              "      <td>30</td>\n",
              "      <td>0</td>\n",
              "      <td>0.036050</td>\n",
              "      <td>3300.0</td>\n",
              "      <td>5</td>\n",
              "      <td>0</td>\n",
              "      <td>0</td>\n",
              "      <td>0</td>\n",
              "      <td>0.0</td>\n",
              "    </tr>\n",
              "    <tr>\n",
              "      <th>4</th>\n",
              "      <td>0</td>\n",
              "      <td>0.907239</td>\n",
              "      <td>49</td>\n",
              "      <td>1</td>\n",
              "      <td>0.024926</td>\n",
              "      <td>63588.0</td>\n",
              "      <td>7</td>\n",
              "      <td>0</td>\n",
              "      <td>1</td>\n",
              "      <td>0</td>\n",
              "      <td>0.0</td>\n",
              "    </tr>\n",
              "    <tr>\n",
              "      <th>5</th>\n",
              "      <td>0</td>\n",
              "      <td>0.213179</td>\n",
              "      <td>74</td>\n",
              "      <td>0</td>\n",
              "      <td>0.375607</td>\n",
              "      <td>3500.0</td>\n",
              "      <td>3</td>\n",
              "      <td>0</td>\n",
              "      <td>1</td>\n",
              "      <td>0</td>\n",
              "      <td>1.0</td>\n",
              "    </tr>\n",
              "    <tr>\n",
              "      <th>6</th>\n",
              "      <td>0</td>\n",
              "      <td>0.754464</td>\n",
              "      <td>39</td>\n",
              "      <td>0</td>\n",
              "      <td>0.209940</td>\n",
              "      <td>3500.0</td>\n",
              "      <td>8</td>\n",
              "      <td>0</td>\n",
              "      <td>0</td>\n",
              "      <td>0</td>\n",
              "      <td>0.0</td>\n",
              "    </tr>\n",
              "    <tr>\n",
              "      <th>7</th>\n",
              "      <td>0</td>\n",
              "      <td>0.189169</td>\n",
              "      <td>57</td>\n",
              "      <td>0</td>\n",
              "      <td>0.606291</td>\n",
              "      <td>23684.0</td>\n",
              "      <td>9</td>\n",
              "      <td>0</td>\n",
              "      <td>4</td>\n",
              "      <td>0</td>\n",
              "      <td>2.0</td>\n",
              "    </tr>\n",
              "    <tr>\n",
              "      <th>8</th>\n",
              "      <td>0</td>\n",
              "      <td>0.644226</td>\n",
              "      <td>30</td>\n",
              "      <td>0</td>\n",
              "      <td>0.309476</td>\n",
              "      <td>2500.0</td>\n",
              "      <td>5</td>\n",
              "      <td>0</td>\n",
              "      <td>0</td>\n",
              "      <td>0</td>\n",
              "      <td>0.0</td>\n",
              "    </tr>\n",
              "    <tr>\n",
              "      <th>9</th>\n",
              "      <td>0</td>\n",
              "      <td>0.018798</td>\n",
              "      <td>51</td>\n",
              "      <td>0</td>\n",
              "      <td>0.531529</td>\n",
              "      <td>6501.0</td>\n",
              "      <td>7</td>\n",
              "      <td>0</td>\n",
              "      <td>2</td>\n",
              "      <td>0</td>\n",
              "      <td>2.0</td>\n",
              "    </tr>\n",
              "  </tbody>\n",
              "</table>\n",
              "</div>\n",
              "      <button class=\"colab-df-convert\" onclick=\"convertToInteractive('df-96b2b2e4-5cab-4994-9446-4982145535cd')\"\n",
              "              title=\"Convert this dataframe to an interactive table.\"\n",
              "              style=\"display:none;\">\n",
              "        \n",
              "  <svg xmlns=\"http://www.w3.org/2000/svg\" height=\"24px\"viewBox=\"0 0 24 24\"\n",
              "       width=\"24px\">\n",
              "    <path d=\"M0 0h24v24H0V0z\" fill=\"none\"/>\n",
              "    <path d=\"M18.56 5.44l.94 2.06.94-2.06 2.06-.94-2.06-.94-.94-2.06-.94 2.06-2.06.94zm-11 1L8.5 8.5l.94-2.06 2.06-.94-2.06-.94L8.5 2.5l-.94 2.06-2.06.94zm10 10l.94 2.06.94-2.06 2.06-.94-2.06-.94-.94-2.06-.94 2.06-2.06.94z\"/><path d=\"M17.41 7.96l-1.37-1.37c-.4-.4-.92-.59-1.43-.59-.52 0-1.04.2-1.43.59L10.3 9.45l-7.72 7.72c-.78.78-.78 2.05 0 2.83L4 21.41c.39.39.9.59 1.41.59.51 0 1.02-.2 1.41-.59l7.78-7.78 2.81-2.81c.8-.78.8-2.07 0-2.86zM5.41 20L4 18.59l7.72-7.72 1.47 1.35L5.41 20z\"/>\n",
              "  </svg>\n",
              "      </button>\n",
              "      \n",
              "  <style>\n",
              "    .colab-df-container {\n",
              "      display:flex;\n",
              "      flex-wrap:wrap;\n",
              "      gap: 12px;\n",
              "    }\n",
              "\n",
              "    .colab-df-convert {\n",
              "      background-color: #E8F0FE;\n",
              "      border: none;\n",
              "      border-radius: 50%;\n",
              "      cursor: pointer;\n",
              "      display: none;\n",
              "      fill: #1967D2;\n",
              "      height: 32px;\n",
              "      padding: 0 0 0 0;\n",
              "      width: 32px;\n",
              "    }\n",
              "\n",
              "    .colab-df-convert:hover {\n",
              "      background-color: #E2EBFA;\n",
              "      box-shadow: 0px 1px 2px rgba(60, 64, 67, 0.3), 0px 1px 3px 1px rgba(60, 64, 67, 0.15);\n",
              "      fill: #174EA6;\n",
              "    }\n",
              "\n",
              "    [theme=dark] .colab-df-convert {\n",
              "      background-color: #3B4455;\n",
              "      fill: #D2E3FC;\n",
              "    }\n",
              "\n",
              "    [theme=dark] .colab-df-convert:hover {\n",
              "      background-color: #434B5C;\n",
              "      box-shadow: 0px 1px 3px 1px rgba(0, 0, 0, 0.15);\n",
              "      filter: drop-shadow(0px 1px 2px rgba(0, 0, 0, 0.3));\n",
              "      fill: #FFFFFF;\n",
              "    }\n",
              "  </style>\n",
              "\n",
              "      <script>\n",
              "        const buttonEl =\n",
              "          document.querySelector('#df-96b2b2e4-5cab-4994-9446-4982145535cd button.colab-df-convert');\n",
              "        buttonEl.style.display =\n",
              "          google.colab.kernel.accessAllowed ? 'block' : 'none';\n",
              "\n",
              "        async function convertToInteractive(key) {\n",
              "          const element = document.querySelector('#df-96b2b2e4-5cab-4994-9446-4982145535cd');\n",
              "          const dataTable =\n",
              "            await google.colab.kernel.invokeFunction('convertToInteractive',\n",
              "                                                     [key], {});\n",
              "          if (!dataTable) return;\n",
              "\n",
              "          const docLinkHtml = 'Like what you see? Visit the ' +\n",
              "            '<a target=\"_blank\" href=https://colab.research.google.com/notebooks/data_table.ipynb>data table notebook</a>'\n",
              "            + ' to learn more about interactive tables.';\n",
              "          element.innerHTML = '';\n",
              "          dataTable['output_type'] = 'display_data';\n",
              "          await google.colab.output.renderOutput(dataTable, element);\n",
              "          const docLink = document.createElement('div');\n",
              "          docLink.innerHTML = docLinkHtml;\n",
              "          element.appendChild(docLink);\n",
              "        }\n",
              "      </script>\n",
              "    </div>\n",
              "  </div>\n",
              "  "
            ]
          },
          "metadata": {}
        }
      ],
      "source": [
        "# read the data file\n",
        "from pyspark.sql.types import DoubleType\n",
        "\n",
        "# rename prediction col to 'label'\n",
        "credit_score_df = credit_score_df.withColumnRenamed('SeriousDlqin2yrs', 'label')\n",
        "\n",
        "# cast string cols to double\n",
        "credit_score_df = credit_score_df.withColumn('NumberOfDependents', credit_score_df['NumberOfDependents'].cast(DoubleType()))\n",
        "credit_score_df = credit_score_df.withColumn('MonthlyIncome', credit_score_df['MonthlyIncome'].cast(DoubleType()))\n",
        "\n",
        "# drop NAs and nulls and remove index col\n",
        "credit_score_df = credit_score_df.dropna().drop('_c0')\n",
        "\n",
        "# display a sample of the data frame\n",
        "display(credit_score_df.limit(10).toPandas())"
      ]
    },
    {
      "cell_type": "markdown",
      "metadata": {
        "id": "GR_vl25VqSrb"
      },
      "source": [
        "The cell below shows the data dictionary for the data set."
      ]
    },
    {
      "cell_type": "markdown",
      "metadata": {
        "id": "0XcxlXlJqSrc"
      },
      "source": [
        "| Variable Name                        | Description                                                                                                                                              | Type       |\n",
        "|--------------------------------------|----------------------------------------------------------------------------------------------------------------------------------------------------------|------------|\n",
        "| SeriousDlqin2yrs                     | Person experienced 90 days past due delinquency or worse                                                                                                 | Y/N        |\n",
        "| RevolvingUtilizationOfUnsecuredLines | Total balance on credit cards and personal lines of credit except real estate and no installment debt like car loans divided by the sum of credit limits | percentage |\n",
        "| age                                  | Age of borrower in years                                                                                                                                 | integer    |\n",
        "| NumberOfTime30-59DaysPastDueNotWorse | Number of times borrower has been 30-59 days past due but no worse in the last 2 years.                                                                  | integer    |\n",
        "| DebtRatio                            | Monthly debt payments, alimony,living costs divided by monthy gross income                                                                               | percentage |\n",
        "| MonthlyIncome                        | Monthly income                                                                                                                                           | real       |\n",
        "| NumberOfOpenCreditLinesAndLoans      | Number of Open loans (installment like car loan or mortgage) and Lines of credit (e.g. credit cards)                                                     | integer    |\n",
        "| NumberOfTimes90DaysLate              | Number of times borrower has been 90 days or more past due.                                                                                              | integer    |\n",
        "| NumberRealEstateLoansOrLines         | Number of mortgage and real estate loans including home equity lines of credit                                                                           | integer    |\n",
        "| NumberOfTime60-89DaysPastDueNotWorse | Number of times borrower has been 60-89 days past due but no worse in the last 2 years.                                                                  | integer    |\n",
        "| NumberOfDependents                   | Number of dependents in family excluding themselves (spouse, children etc.)                                                                              | integer    |"
      ]
    },
    {
      "cell_type": "markdown",
      "metadata": {
        "id": "4XCUwwYqqSrc"
      },
      "source": [
        "We need to put the independent variables into one feature vector"
      ]
    },
    {
      "cell_type": "code",
      "execution_count": null,
      "metadata": {
        "id": "wfVc8JaqqSrd"
      },
      "outputs": [],
      "source": [
        "from pyspark.ml.feature import VectorAssembler"
      ]
    },
    {
      "cell_type": "code",
      "execution_count": null,
      "metadata": {
        "id": "dIkZFGF4qSrg"
      },
      "outputs": [],
      "source": [
        "training_df, validation_df, testing_df = credit_score_df.randomSplit([0.6, 0.3, 0.1])"
      ]
    },
    {
      "cell_type": "code",
      "execution_count": null,
      "metadata": {
        "id": "-PL-Y1opqSri"
      },
      "outputs": [],
      "source": [
        "# build a pipeline for analysis\n",
        "va = VectorAssembler().setInputCols(training_df.columns[2:]).setOutputCol('features')"
      ]
    },
    {
      "cell_type": "code",
      "execution_count": null,
      "metadata": {
        "id": "mv0oUUu1qSrl"
      },
      "outputs": [],
      "source": [
        "from pyspark.ml.classification import LogisticRegression, RandomForestClassifier"
      ]
    },
    {
      "cell_type": "code",
      "execution_count": null,
      "metadata": {
        "id": "ua0TE_itqSrn"
      },
      "outputs": [],
      "source": [
        "from pyspark.ml import Pipeline"
      ]
    },
    {
      "cell_type": "code",
      "execution_count": null,
      "metadata": {
        "id": "4bIAAJJQqSrp"
      },
      "outputs": [],
      "source": [
        "lr = LogisticRegression(regParam=0.1)"
      ]
    },
    {
      "cell_type": "code",
      "execution_count": null,
      "metadata": {
        "id": "637HQ1asqSrs",
        "scrolled": false
      },
      "outputs": [],
      "source": [
        "lr_pipeline = Pipeline(stages=[va, lr]).fit(training_df)"
      ]
    },
    {
      "cell_type": "code",
      "execution_count": null,
      "metadata": {
        "id": "9adAyLNHqSru"
      },
      "outputs": [],
      "source": [
        "rf = RandomForestClassifier()"
      ]
    },
    {
      "cell_type": "code",
      "execution_count": null,
      "metadata": {
        "id": "B4RShoEaqSry",
        "scrolled": false
      },
      "outputs": [],
      "source": [
        "rf_pipeline = Pipeline(stages=[va, rf]).fit(training_df)"
      ]
    },
    {
      "cell_type": "code",
      "execution_count": null,
      "metadata": {
        "id": "AVPb0IB2qSr1"
      },
      "outputs": [],
      "source": [
        "from pyspark.ml.evaluation import BinaryClassificationEvaluator"
      ]
    },
    {
      "cell_type": "code",
      "execution_count": null,
      "metadata": {
        "id": "DQHtQ5JbqSr3"
      },
      "outputs": [],
      "source": [
        "bce = BinaryClassificationEvaluator()"
      ]
    },
    {
      "cell_type": "code",
      "execution_count": null,
      "metadata": {
        "colab": {
          "base_uri": "https://localhost:8080/"
        },
        "id": "bDIp84KcqSr7",
        "outputId": "ba4a3d24-060c-48f3-8546-d3ffc5027141"
      },
      "outputs": [
        {
          "output_type": "execute_result",
          "data": {
            "text/plain": [
              "0.667854119571337"
            ]
          },
          "metadata": {},
          "execution_count": 43
        }
      ],
      "source": [
        "bce.evaluate(lr_pipeline.transform(validation_df))"
      ]
    },
    {
      "cell_type": "code",
      "execution_count": null,
      "metadata": {
        "colab": {
          "base_uri": "https://localhost:8080/"
        },
        "id": "jMN4cRGmqSr_",
        "outputId": "f7335018-0663-44a8-cf02-bd1ad41edffa"
      },
      "outputs": [
        {
          "output_type": "execute_result",
          "data": {
            "text/plain": [
              "0.8219072982119371"
            ]
          },
          "metadata": {},
          "execution_count": 44
        }
      ],
      "source": [
        "bce.evaluate(rf_pipeline.transform(validation_df))"
      ]
    },
    {
      "cell_type": "markdown",
      "metadata": {
        "id": "qKj6HGmfqSsE"
      },
      "source": [
        "Using default tuning parameters, Random Forest performs much better logistic regression!"
      ]
    },
    {
      "cell_type": "markdown",
      "metadata": {
        "id": "83U8PKn-qSsE"
      },
      "source": [
        "# Try to interpret the results"
      ]
    },
    {
      "cell_type": "markdown",
      "metadata": {
        "id": "3hrWQxwRqSsF"
      },
      "source": [
        "## Logistic regression"
      ]
    },
    {
      "cell_type": "code",
      "execution_count": null,
      "metadata": {
        "id": "UlY1j2ahqSsF"
      },
      "outputs": [],
      "source": [
        "lr_model = lr_pipeline.stages[-1]"
      ]
    },
    {
      "cell_type": "code",
      "execution_count": null,
      "metadata": {
        "id": "Fjdf74sFqSsH"
      },
      "outputs": [],
      "source": [
        "import pandas as pd"
      ]
    },
    {
      "cell_type": "code",
      "execution_count": null,
      "metadata": {
        "colab": {
          "base_uri": "https://localhost:8080/",
          "height": 331
        },
        "id": "d96W-MMrqSsJ",
        "outputId": "5eb18dee-f059-40a0-c778-818bdcacdac1"
      },
      "outputs": [
        {
          "output_type": "execute_result",
          "data": {
            "text/plain": [
              "                                 column    weight\n",
              "0                                   age -0.010298\n",
              "4       NumberOfOpenCreditLinesAndLoans -0.004204\n",
              "2                             DebtRatio -0.000011\n",
              "3                         MonthlyIncome -0.000003\n",
              "7  NumberOfTime60-89DaysPastDueNotWorse  0.000227\n",
              "6          NumberRealEstateLoansOrLines  0.000626\n",
              "5               NumberOfTimes90DaysLate  0.014222\n",
              "1  NumberOfTime30-59DaysPastDueNotWorse  0.023045\n",
              "8                    NumberOfDependents  0.045739"
            ],
            "text/html": [
              "\n",
              "  <div id=\"df-f124fe4d-5151-4e84-8066-dee0fc46c9fa\">\n",
              "    <div class=\"colab-df-container\">\n",
              "      <div>\n",
              "<style scoped>\n",
              "    .dataframe tbody tr th:only-of-type {\n",
              "        vertical-align: middle;\n",
              "    }\n",
              "\n",
              "    .dataframe tbody tr th {\n",
              "        vertical-align: top;\n",
              "    }\n",
              "\n",
              "    .dataframe thead th {\n",
              "        text-align: right;\n",
              "    }\n",
              "</style>\n",
              "<table border=\"1\" class=\"dataframe\">\n",
              "  <thead>\n",
              "    <tr style=\"text-align: right;\">\n",
              "      <th></th>\n",
              "      <th>column</th>\n",
              "      <th>weight</th>\n",
              "    </tr>\n",
              "  </thead>\n",
              "  <tbody>\n",
              "    <tr>\n",
              "      <th>0</th>\n",
              "      <td>age</td>\n",
              "      <td>-0.010298</td>\n",
              "    </tr>\n",
              "    <tr>\n",
              "      <th>4</th>\n",
              "      <td>NumberOfOpenCreditLinesAndLoans</td>\n",
              "      <td>-0.004204</td>\n",
              "    </tr>\n",
              "    <tr>\n",
              "      <th>2</th>\n",
              "      <td>DebtRatio</td>\n",
              "      <td>-0.000011</td>\n",
              "    </tr>\n",
              "    <tr>\n",
              "      <th>3</th>\n",
              "      <td>MonthlyIncome</td>\n",
              "      <td>-0.000003</td>\n",
              "    </tr>\n",
              "    <tr>\n",
              "      <th>7</th>\n",
              "      <td>NumberOfTime60-89DaysPastDueNotWorse</td>\n",
              "      <td>0.000227</td>\n",
              "    </tr>\n",
              "    <tr>\n",
              "      <th>6</th>\n",
              "      <td>NumberRealEstateLoansOrLines</td>\n",
              "      <td>0.000626</td>\n",
              "    </tr>\n",
              "    <tr>\n",
              "      <th>5</th>\n",
              "      <td>NumberOfTimes90DaysLate</td>\n",
              "      <td>0.014222</td>\n",
              "    </tr>\n",
              "    <tr>\n",
              "      <th>1</th>\n",
              "      <td>NumberOfTime30-59DaysPastDueNotWorse</td>\n",
              "      <td>0.023045</td>\n",
              "    </tr>\n",
              "    <tr>\n",
              "      <th>8</th>\n",
              "      <td>NumberOfDependents</td>\n",
              "      <td>0.045739</td>\n",
              "    </tr>\n",
              "  </tbody>\n",
              "</table>\n",
              "</div>\n",
              "      <button class=\"colab-df-convert\" onclick=\"convertToInteractive('df-f124fe4d-5151-4e84-8066-dee0fc46c9fa')\"\n",
              "              title=\"Convert this dataframe to an interactive table.\"\n",
              "              style=\"display:none;\">\n",
              "        \n",
              "  <svg xmlns=\"http://www.w3.org/2000/svg\" height=\"24px\"viewBox=\"0 0 24 24\"\n",
              "       width=\"24px\">\n",
              "    <path d=\"M0 0h24v24H0V0z\" fill=\"none\"/>\n",
              "    <path d=\"M18.56 5.44l.94 2.06.94-2.06 2.06-.94-2.06-.94-.94-2.06-.94 2.06-2.06.94zm-11 1L8.5 8.5l.94-2.06 2.06-.94-2.06-.94L8.5 2.5l-.94 2.06-2.06.94zm10 10l.94 2.06.94-2.06 2.06-.94-2.06-.94-.94-2.06-.94 2.06-2.06.94z\"/><path d=\"M17.41 7.96l-1.37-1.37c-.4-.4-.92-.59-1.43-.59-.52 0-1.04.2-1.43.59L10.3 9.45l-7.72 7.72c-.78.78-.78 2.05 0 2.83L4 21.41c.39.39.9.59 1.41.59.51 0 1.02-.2 1.41-.59l7.78-7.78 2.81-2.81c.8-.78.8-2.07 0-2.86zM5.41 20L4 18.59l7.72-7.72 1.47 1.35L5.41 20z\"/>\n",
              "  </svg>\n",
              "      </button>\n",
              "      \n",
              "  <style>\n",
              "    .colab-df-container {\n",
              "      display:flex;\n",
              "      flex-wrap:wrap;\n",
              "      gap: 12px;\n",
              "    }\n",
              "\n",
              "    .colab-df-convert {\n",
              "      background-color: #E8F0FE;\n",
              "      border: none;\n",
              "      border-radius: 50%;\n",
              "      cursor: pointer;\n",
              "      display: none;\n",
              "      fill: #1967D2;\n",
              "      height: 32px;\n",
              "      padding: 0 0 0 0;\n",
              "      width: 32px;\n",
              "    }\n",
              "\n",
              "    .colab-df-convert:hover {\n",
              "      background-color: #E2EBFA;\n",
              "      box-shadow: 0px 1px 2px rgba(60, 64, 67, 0.3), 0px 1px 3px 1px rgba(60, 64, 67, 0.15);\n",
              "      fill: #174EA6;\n",
              "    }\n",
              "\n",
              "    [theme=dark] .colab-df-convert {\n",
              "      background-color: #3B4455;\n",
              "      fill: #D2E3FC;\n",
              "    }\n",
              "\n",
              "    [theme=dark] .colab-df-convert:hover {\n",
              "      background-color: #434B5C;\n",
              "      box-shadow: 0px 1px 3px 1px rgba(0, 0, 0, 0.15);\n",
              "      filter: drop-shadow(0px 1px 2px rgba(0, 0, 0, 0.3));\n",
              "      fill: #FFFFFF;\n",
              "    }\n",
              "  </style>\n",
              "\n",
              "      <script>\n",
              "        const buttonEl =\n",
              "          document.querySelector('#df-f124fe4d-5151-4e84-8066-dee0fc46c9fa button.colab-df-convert');\n",
              "        buttonEl.style.display =\n",
              "          google.colab.kernel.accessAllowed ? 'block' : 'none';\n",
              "\n",
              "        async function convertToInteractive(key) {\n",
              "          const element = document.querySelector('#df-f124fe4d-5151-4e84-8066-dee0fc46c9fa');\n",
              "          const dataTable =\n",
              "            await google.colab.kernel.invokeFunction('convertToInteractive',\n",
              "                                                     [key], {});\n",
              "          if (!dataTable) return;\n",
              "\n",
              "          const docLinkHtml = 'Like what you see? Visit the ' +\n",
              "            '<a target=\"_blank\" href=https://colab.research.google.com/notebooks/data_table.ipynb>data table notebook</a>'\n",
              "            + ' to learn more about interactive tables.';\n",
              "          element.innerHTML = '';\n",
              "          dataTable['output_type'] = 'display_data';\n",
              "          await google.colab.output.renderOutput(dataTable, element);\n",
              "          const docLink = document.createElement('div');\n",
              "          docLink.innerHTML = docLinkHtml;\n",
              "          element.appendChild(docLink);\n",
              "        }\n",
              "      </script>\n",
              "    </div>\n",
              "  </div>\n",
              "  "
            ]
          },
          "metadata": {},
          "execution_count": 47
        }
      ],
      "source": [
        "pd.DataFrame(list(zip(credit_score_df.columns[2:], lr_model.coefficients.toArray())),\n",
        "            columns = ['column', 'weight']).sort_values('weight')"
      ]
    },
    {
      "cell_type": "markdown",
      "metadata": {
        "id": "KFoJqg6EqSsL"
      },
      "source": [
        "## Random forest"
      ]
    },
    {
      "cell_type": "code",
      "execution_count": null,
      "metadata": {
        "id": "3mkhcpV-qSsL"
      },
      "outputs": [],
      "source": [
        "rf_model = rf_pipeline.stages[-1]"
      ]
    },
    {
      "cell_type": "code",
      "execution_count": null,
      "metadata": {
        "colab": {
          "base_uri": "https://localhost:8080/",
          "height": 331
        },
        "id": "a8iNhd_5qSsN",
        "outputId": "f3efbe57-edcd-45ed-efeb-0999180976c9"
      },
      "outputs": [
        {
          "output_type": "execute_result",
          "data": {
            "text/plain": [
              "                                 column    weight\n",
              "8                    NumberOfDependents  0.001920\n",
              "6          NumberRealEstateLoansOrLines  0.005030\n",
              "3                         MonthlyIncome  0.010198\n",
              "4       NumberOfOpenCreditLinesAndLoans  0.011975\n",
              "2                             DebtRatio  0.015162\n",
              "0                                   age  0.020891\n",
              "1  NumberOfTime30-59DaysPastDueNotWorse  0.133682\n",
              "7  NumberOfTime60-89DaysPastDueNotWorse  0.204814\n",
              "5               NumberOfTimes90DaysLate  0.596328"
            ],
            "text/html": [
              "\n",
              "  <div id=\"df-97815d4a-ba0a-4cc1-bc02-bacb71a6f1b7\">\n",
              "    <div class=\"colab-df-container\">\n",
              "      <div>\n",
              "<style scoped>\n",
              "    .dataframe tbody tr th:only-of-type {\n",
              "        vertical-align: middle;\n",
              "    }\n",
              "\n",
              "    .dataframe tbody tr th {\n",
              "        vertical-align: top;\n",
              "    }\n",
              "\n",
              "    .dataframe thead th {\n",
              "        text-align: right;\n",
              "    }\n",
              "</style>\n",
              "<table border=\"1\" class=\"dataframe\">\n",
              "  <thead>\n",
              "    <tr style=\"text-align: right;\">\n",
              "      <th></th>\n",
              "      <th>column</th>\n",
              "      <th>weight</th>\n",
              "    </tr>\n",
              "  </thead>\n",
              "  <tbody>\n",
              "    <tr>\n",
              "      <th>8</th>\n",
              "      <td>NumberOfDependents</td>\n",
              "      <td>0.001920</td>\n",
              "    </tr>\n",
              "    <tr>\n",
              "      <th>6</th>\n",
              "      <td>NumberRealEstateLoansOrLines</td>\n",
              "      <td>0.005030</td>\n",
              "    </tr>\n",
              "    <tr>\n",
              "      <th>3</th>\n",
              "      <td>MonthlyIncome</td>\n",
              "      <td>0.010198</td>\n",
              "    </tr>\n",
              "    <tr>\n",
              "      <th>4</th>\n",
              "      <td>NumberOfOpenCreditLinesAndLoans</td>\n",
              "      <td>0.011975</td>\n",
              "    </tr>\n",
              "    <tr>\n",
              "      <th>2</th>\n",
              "      <td>DebtRatio</td>\n",
              "      <td>0.015162</td>\n",
              "    </tr>\n",
              "    <tr>\n",
              "      <th>0</th>\n",
              "      <td>age</td>\n",
              "      <td>0.020891</td>\n",
              "    </tr>\n",
              "    <tr>\n",
              "      <th>1</th>\n",
              "      <td>NumberOfTime30-59DaysPastDueNotWorse</td>\n",
              "      <td>0.133682</td>\n",
              "    </tr>\n",
              "    <tr>\n",
              "      <th>7</th>\n",
              "      <td>NumberOfTime60-89DaysPastDueNotWorse</td>\n",
              "      <td>0.204814</td>\n",
              "    </tr>\n",
              "    <tr>\n",
              "      <th>5</th>\n",
              "      <td>NumberOfTimes90DaysLate</td>\n",
              "      <td>0.596328</td>\n",
              "    </tr>\n",
              "  </tbody>\n",
              "</table>\n",
              "</div>\n",
              "      <button class=\"colab-df-convert\" onclick=\"convertToInteractive('df-97815d4a-ba0a-4cc1-bc02-bacb71a6f1b7')\"\n",
              "              title=\"Convert this dataframe to an interactive table.\"\n",
              "              style=\"display:none;\">\n",
              "        \n",
              "  <svg xmlns=\"http://www.w3.org/2000/svg\" height=\"24px\"viewBox=\"0 0 24 24\"\n",
              "       width=\"24px\">\n",
              "    <path d=\"M0 0h24v24H0V0z\" fill=\"none\"/>\n",
              "    <path d=\"M18.56 5.44l.94 2.06.94-2.06 2.06-.94-2.06-.94-.94-2.06-.94 2.06-2.06.94zm-11 1L8.5 8.5l.94-2.06 2.06-.94-2.06-.94L8.5 2.5l-.94 2.06-2.06.94zm10 10l.94 2.06.94-2.06 2.06-.94-2.06-.94-.94-2.06-.94 2.06-2.06.94z\"/><path d=\"M17.41 7.96l-1.37-1.37c-.4-.4-.92-.59-1.43-.59-.52 0-1.04.2-1.43.59L10.3 9.45l-7.72 7.72c-.78.78-.78 2.05 0 2.83L4 21.41c.39.39.9.59 1.41.59.51 0 1.02-.2 1.41-.59l7.78-7.78 2.81-2.81c.8-.78.8-2.07 0-2.86zM5.41 20L4 18.59l7.72-7.72 1.47 1.35L5.41 20z\"/>\n",
              "  </svg>\n",
              "      </button>\n",
              "      \n",
              "  <style>\n",
              "    .colab-df-container {\n",
              "      display:flex;\n",
              "      flex-wrap:wrap;\n",
              "      gap: 12px;\n",
              "    }\n",
              "\n",
              "    .colab-df-convert {\n",
              "      background-color: #E8F0FE;\n",
              "      border: none;\n",
              "      border-radius: 50%;\n",
              "      cursor: pointer;\n",
              "      display: none;\n",
              "      fill: #1967D2;\n",
              "      height: 32px;\n",
              "      padding: 0 0 0 0;\n",
              "      width: 32px;\n",
              "    }\n",
              "\n",
              "    .colab-df-convert:hover {\n",
              "      background-color: #E2EBFA;\n",
              "      box-shadow: 0px 1px 2px rgba(60, 64, 67, 0.3), 0px 1px 3px 1px rgba(60, 64, 67, 0.15);\n",
              "      fill: #174EA6;\n",
              "    }\n",
              "\n",
              "    [theme=dark] .colab-df-convert {\n",
              "      background-color: #3B4455;\n",
              "      fill: #D2E3FC;\n",
              "    }\n",
              "\n",
              "    [theme=dark] .colab-df-convert:hover {\n",
              "      background-color: #434B5C;\n",
              "      box-shadow: 0px 1px 3px 1px rgba(0, 0, 0, 0.15);\n",
              "      filter: drop-shadow(0px 1px 2px rgba(0, 0, 0, 0.3));\n",
              "      fill: #FFFFFF;\n",
              "    }\n",
              "  </style>\n",
              "\n",
              "      <script>\n",
              "        const buttonEl =\n",
              "          document.querySelector('#df-97815d4a-ba0a-4cc1-bc02-bacb71a6f1b7 button.colab-df-convert');\n",
              "        buttonEl.style.display =\n",
              "          google.colab.kernel.accessAllowed ? 'block' : 'none';\n",
              "\n",
              "        async function convertToInteractive(key) {\n",
              "          const element = document.querySelector('#df-97815d4a-ba0a-4cc1-bc02-bacb71a6f1b7');\n",
              "          const dataTable =\n",
              "            await google.colab.kernel.invokeFunction('convertToInteractive',\n",
              "                                                     [key], {});\n",
              "          if (!dataTable) return;\n",
              "\n",
              "          const docLinkHtml = 'Like what you see? Visit the ' +\n",
              "            '<a target=\"_blank\" href=https://colab.research.google.com/notebooks/data_table.ipynb>data table notebook</a>'\n",
              "            + ' to learn more about interactive tables.';\n",
              "          element.innerHTML = '';\n",
              "          dataTable['output_type'] = 'display_data';\n",
              "          await google.colab.output.renderOutput(dataTable, element);\n",
              "          const docLink = document.createElement('div');\n",
              "          docLink.innerHTML = docLinkHtml;\n",
              "          element.appendChild(docLink);\n",
              "        }\n",
              "      </script>\n",
              "    </div>\n",
              "  </div>\n",
              "  "
            ]
          },
          "metadata": {},
          "execution_count": 49
        }
      ],
      "source": [
        "pd.DataFrame(list(zip(credit_score_df.columns[2:], rf_model.featureImportances.toArray())),\n",
        "            columns = ['column', 'weight']).sort_values('weight')\n",
        "#rf_model.featureImportances"
      ]
    },
    {
      "cell_type": "markdown",
      "metadata": {
        "id": "Aqlfr8qzqSsP"
      },
      "source": [
        "Let's take a look at one tree"
      ]
    },
    {
      "cell_type": "code",
      "execution_count": null,
      "metadata": {
        "colab": {
          "base_uri": "https://localhost:8080/"
        },
        "id": "hYPdV-KEqSsP",
        "outputId": "6ee0c647-f41a-4ab9-a2db-4c5bbbe767b7"
      },
      "outputs": [
        {
          "output_type": "execute_result",
          "data": {
            "text/plain": [
              "20"
            ]
          },
          "metadata": {},
          "execution_count": 50
        }
      ],
      "source": [
        "len(rf_model.trees)"
      ]
    },
    {
      "cell_type": "code",
      "execution_count": null,
      "metadata": {
        "colab": {
          "base_uri": "https://localhost:8080/"
        },
        "id": "0rKNwfbhqSsS",
        "outputId": "3327f110-6c4b-4ab4-d6aa-19f8bc0005a6",
        "scrolled": false
      },
      "outputs": [
        {
          "output_type": "stream",
          "name": "stdout",
          "text": [
            "DecisionTreeClassificationModel: uid=dtc_881b9cee2747, depth=5, numNodes=27, numClasses=2, numFeatures=9\n",
            "  If (feature 2 <= 0.514398322)\n",
            "   If (feature 5 <= 0.5)\n",
            "    Predict: 0.0\n",
            "   Else (feature 5 > 0.5)\n",
            "    If (feature 7 <= 0.5)\n",
            "     Predict: 0.0\n",
            "    Else (feature 7 > 0.5)\n",
            "     If (feature 5 <= 3.5)\n",
            "      If (feature 2 <= 0.0442781255)\n",
            "       Predict: 0.0\n",
            "      Else (feature 2 > 0.0442781255)\n",
            "       Predict: 1.0\n",
            "     Else (feature 5 > 3.5)\n",
            "      If (feature 3 <= 1997.0)\n",
            "       Predict: 0.0\n",
            "      Else (feature 3 > 1997.0)\n",
            "       Predict: 1.0\n",
            "  Else (feature 2 > 0.514398322)\n",
            "   If (feature 6 <= 3.5)\n",
            "    If (feature 7 <= 0.5)\n",
            "     Predict: 0.0\n",
            "    Else (feature 7 > 0.5)\n",
            "     If (feature 7 <= 1.5)\n",
            "      If (feature 1 <= 1.5)\n",
            "       Predict: 0.0\n",
            "      Else (feature 1 > 1.5)\n",
            "       Predict: 1.0\n",
            "     Else (feature 7 > 1.5)\n",
            "      Predict: 1.0\n",
            "   Else (feature 6 > 3.5)\n",
            "    If (feature 0 <= 29.5)\n",
            "     Predict: 1.0\n",
            "    Else (feature 0 > 29.5)\n",
            "     If (feature 1 <= 1.5)\n",
            "      Predict: 0.0\n",
            "     Else (feature 1 > 1.5)\n",
            "      If (feature 0 <= 49.5)\n",
            "       Predict: 1.0\n",
            "      Else (feature 0 > 49.5)\n",
            "       Predict: 0.0\n",
            "\n"
          ]
        }
      ],
      "source": [
        "print(rf_model.trees[0].toDebugString)"
      ]
    },
    {
      "cell_type": "markdown",
      "metadata": {
        "id": "L-a34CygqSsU"
      },
      "source": [
        "Gradient Boosted Tree Example"
      ]
    },
    {
      "cell_type": "code",
      "execution_count": null,
      "metadata": {
        "id": "a0GgGkJrqSsU"
      },
      "outputs": [],
      "source": [
        "gbt = GBTClassifier()\n",
        "gbt_pipeline = Pipeline(stages=[va, gbt]).fit(training_df)"
      ]
    },
    {
      "cell_type": "code",
      "execution_count": null,
      "metadata": {
        "colab": {
          "base_uri": "https://localhost:8080/"
        },
        "id": "A7p-Q2RMqSsV",
        "outputId": "d856089a-4377-4fb4-d663-bba22842f3a8"
      },
      "outputs": [
        {
          "output_type": "execute_result",
          "data": {
            "text/plain": [
              "0.8282460091670619"
            ]
          },
          "metadata": {},
          "execution_count": 53
        }
      ],
      "source": [
        "bce.evaluate(gbt_pipeline.transform(validation_df))"
      ]
    }
  ],
  "metadata": {
    "anaconda-cloud": {},
    "colab": {
      "collapsed_sections": [
        "9nU0A7kBqSqq",
        "SbEk0U3IqSqr",
        "5069i-cgqSqr",
        "OHoosTwsqSqu",
        "uyY7VotqqSq-",
        "hzfML5z2qSrA",
        "7udY02p2qSrO",
        "vBVOwTy8qSrQ",
        "3hrWQxwRqSsF",
        "KFoJqg6EqSsL"
      ],
      "provenance": [],
      "include_colab_link": true
    },
    "kernelspec": {
      "display_name": "Python 3",
      "language": "python",
      "name": "python3"
    },
    "language_info": {
      "codemirror_mode": {
        "name": "ipython",
        "version": 3
      },
      "file_extension": ".py",
      "mimetype": "text/x-python",
      "name": "python",
      "nbconvert_exporter": "python",
      "pygments_lexer": "ipython3",
      "version": "3.6.11"
    },
    "name": "lab-random_forest_for_predicting_credit_score",
    "notebookId": 2471217872396884
  },
  "nbformat": 4,
  "nbformat_minor": 0
}